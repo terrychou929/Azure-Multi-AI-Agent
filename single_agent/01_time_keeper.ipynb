{
 "cells": [
  {
   "cell_type": "markdown",
   "metadata": {
    "vscode": {
     "languageId": "plaintext"
    }
   },
   "source": [
    "# Agent 1: Time Keeper\n",
    "\n",
    "In this multi-agent system, **`TimeKeeper`** is a precision-driven AI agent designed to provide accurate and real-time time information whenever needed. "
   ]
  },
  {
   "cell_type": "code",
   "execution_count": null,
   "metadata": {},
   "outputs": [],
   "source": [
    "# load environment variables from the .env file\n",
    "from dotenv import load_dotenv\n",
    "\n",
    "load_dotenv()"
   ]
  },
  {
   "cell_type": "markdown",
   "metadata": {},
   "source": [
    "## Define user tools"
   ]
  },
  {
   "cell_type": "code",
   "execution_count": 4,
   "metadata": {},
   "outputs": [
    {
     "name": "stdout",
     "output_type": "stream",
     "text": [
      "{\"current_time\": \"2025-01-16 13:35:29\"}\n"
     ]
    }
   ],
   "source": [
    "import json\n",
    "import datetime\n",
    "from typing import Any, Callable, Set, Optional\n",
    "\n",
    "\n",
    "def fetch_current_datetime(format: Optional[str] = None) -> str:\n",
    "    \"\"\"\n",
    "    註解對於大模型非常重要 這邊詳細的註解也能幫助大模型理解function calling的準確性\n",
    "\n",
    "    Get the current time as a JSON string, optionally formatted.\n",
    "\n",
    "    :param format (Optional[str]): The format in which to return the current time. Defaults to None, which uses a standard format.\n",
    "    \n",
    "    :return: The current time in JSON format.\n",
    "    \n",
    "    :rtype: str\n",
    "    \"\"\"\n",
    "    current_time = datetime.datetime.now()\n",
    "\n",
    "    # Use the provided format if available, else use a default format\n",
    "    if format:\n",
    "        time_format = format\n",
    "    else:\n",
    "        time_format = \"%Y-%m-%d %H:%M:%S\"\n",
    "\n",
    "    time_json = json.dumps(\n",
    "        {\"current_time\": current_time.strftime(time_format)})\n",
    "    return time_json\n",
    "\n",
    "\n",
    "# Example usage\n",
    "result = fetch_current_datetime()\n",
    "print(result)"
   ]
  },
  {
   "cell_type": "markdown",
   "metadata": {},
   "source": [
    "## Create Agent"
   ]
  },
  {
   "cell_type": "code",
   "execution_count": 7,
   "metadata": {},
   "outputs": [],
   "source": [
    "import os\n",
    "from azure.ai.projects import AIProjectClient\n",
    "from azure.identity import DefaultAzureCredential\n",
    "\n",
    "\n",
    "project_client = AIProjectClient.from_connection_string(\n",
    "    credential=DefaultAzureCredential(), conn_str=os.environ[\"AIPROJECT_CONNECTION_STRING\"]\n",
    ")"
   ]
  },
  {
   "cell_type": "code",
   "execution_count": 8,
   "metadata": {},
   "outputs": [
    {
     "name": "stdout",
     "output_type": "stream",
     "text": [
      "[{'type': 'function', 'function': {'name': 'fetch_current_datetime', 'description': 'Get the current time as a JSON string, optionally formatted.', 'parameters': {'type': 'object', 'properties': {'format': {'type': ['string', 'null'], 'description': 'The format in which to return the current time. Defaults to None, which uses a standard format.'}}, 'required': []}}}]\n"
     ]
    }
   ],
   "source": [
    "from typing import Any, Set, Callable\n",
    "from azure.ai.projects.models import FunctionTool\n",
    "\n",
    "user_functions: Set[Callable[..., Any]] = {fetch_current_datetime}\n",
    "functions = FunctionTool(functions=user_functions)\n",
    "print(functions.definitions)"
   ]
  },
  {
   "cell_type": "code",
   "execution_count": 11,
   "metadata": {},
   "outputs": [
    {
     "name": "stdout",
     "output_type": "stream",
     "text": [
      "Created agent, agent ID: asst_e5mTAro0lOFgXjUv4AM0DXhh\n"
     ]
    }
   ],
   "source": [
    "instruction = \"\"\"\n",
    "# Role\n",
    "You are TimeKeeper, a specialized AI agent designed to provide accurate and real-time time information. Your primary responsibility is to serve as a reliable and precise source for current time data, ensuring users and systems can access the exact time whenever needed. You are adaptable and capable of formatting the time output to suit various user needs or technical requirements.\n",
    "\n",
    "# Tasks\n",
    "1. **Provide Current Time**:\n",
    "    - Always return the current time based on the user's specified timezone or system default timezone.\n",
    "    - Ensure the time is accurate to the second.\n",
    "\n",
    "2. **Format Time Output**:\n",
    "    - Support multiple time formats based on user requests, such as:\n",
    "        - 12-hour format (e.g., \"2:30 PM\").\n",
    "        - 24-hour format (e.g., \"14:30\").\n",
    "        - ISO 8601 format (e.g., \"2023-10-12T14:30:00Z\").\n",
    "        - Unix timestamp (e.g., \"1697111400\").\n",
    "    - If no format is specified, default to a standard 24-hour format with the date (e.g., \"2023-10-12 14:30:00\").\n",
    "\n",
    "3. **Timezone Customization**:\n",
    "    - Provide time information for any specified timezone (e.g., \"UTC\", \"EST\", \"PST\").\n",
    "    - If no timezone is specified, default to the system's local timezone.\n",
    "\n",
    "4. **Error Handling**:\n",
    "    - Handle invalid timezones, formats, or calculation requests gracefully by providing clear error messages or alternative suggestions.\n",
    "\n",
    "# Goal\n",
    "Your ultimate goal is to provide **accurate, reliable, and user-friendly time information** for any request. Ensure clarity, precision, and adaptability in your responses to meet the varying needs of users and systems.\n",
    "\"\"\"\n",
    "\n",
    "time_keeper = project_client.agents.create_agent(\n",
    "    model=os.environ[\"CHAT_MODEL\"],\n",
    "    name=\"time_keeper\",\n",
    "    description=\"An AI agent specialized in providing accurate and real-time time information.\",\n",
    "    instructions=instruction,\n",
    "    tools=functions.definitions,\n",
    "    # Parameters\n",
    "    temperature=0.7,\n",
    "    top_p=0.95,\n",
    "    # Metadata\n",
    "    metadata={\"group\": \"internet_threat_analysis\"},\n",
    ")\n",
    "\n",
    "print(f\"Created agent, agent ID: {time_keeper.id}\")"
   ]
  },
  {
   "cell_type": "code",
   "execution_count": 12,
   "metadata": {},
   "outputs": [
    {
     "name": "stdout",
     "output_type": "stream",
     "text": [
      "Created thread, ID: thread_siWxCg4ThEYW6ptjv0s0l5yz\n",
      "Created message, ID: msg_i2XZXCWlLG1E24ODt2gdh3nl\n",
      "Created run, ID: run_uLlR4nmkfYbbduo6cgY3mRIU\n",
      "Current run status: in_progress\n",
      "Current run status: in_progress\n",
      "Current run status: failed\n",
      "Run completed with status: failed\n"
     ]
    }
   ],
   "source": [
    "import time\n",
    "from azure.ai.projects.models import RequiredFunctionToolCall, SubmitToolOutputsAction, ToolOutput\n",
    "\n",
    "\n",
    "thread = project_client.agents.create_thread()\n",
    "print(f\"Created thread, ID: {thread.id}\")\n",
    "\n",
    "# Create message to thread\n",
    "message = project_client.agents.create_message(\n",
    "    thread_id=thread.id, role=\"user\", content=\"Hello, what time is it now?\"\n",
    ")\n",
    "print(f\"Created message, ID: {message.id}\")\n",
    "\n",
    "# Create and process assistant run in thread with tools\n",
    "run = project_client.agents.create_run(\n",
    "    thread_id=thread.id, assistant_id=time_keeper.id)\n",
    "print(f\"Created run, ID: {run.id}\")\n",
    "\n",
    "while run.status in [\"queued\", \"in_progress\", \"requires_action\"]:\n",
    "    time.sleep(1)\n",
    "    run = project_client.agents.get_run(thread_id=thread.id, run_id=run.id)\n",
    "\n",
    "    if run.status == \"requires_action\" and isinstance(run.required_action, SubmitToolOutputsAction):\n",
    "        tool_calls = run.required_action.submit_tool_outputs.tool_calls\n",
    "        if not tool_calls:\n",
    "            print(\"No tool calls provided - cancelling run\")\n",
    "            project_client.agents.cancel_run(\n",
    "                thread_id=thread.id, run_id=run.id)\n",
    "            break\n",
    "\n",
    "        tool_outputs = []\n",
    "        for tool_call in tool_calls:\n",
    "            if isinstance(tool_call, RequiredFunctionToolCall):\n",
    "                try:\n",
    "                    print(f\"Executing tool call: {tool_call}\")\n",
    "                    output = functions.execute(tool_call)\n",
    "                    tool_outputs.append(\n",
    "                        ToolOutput(\n",
    "                            tool_call_id=tool_call.id,\n",
    "                            output=output,\n",
    "                        )\n",
    "                    )\n",
    "                except Exception as e:\n",
    "                    print(f\"Error executing tool_call {tool_call.id}: {e}\")\n",
    "\n",
    "        # 把工具的執行結果丟回給大模型形成一個pipeline\n",
    "        print(f\"Tool outputs: {tool_outputs}\")\n",
    "        if tool_outputs:\n",
    "            project_client.agents.submit_tool_outputs_to_run(\n",
    "                thread_id=thread.id, run_id=run.id, tool_outputs=tool_outputs\n",
    "            )\n",
    "\n",
    "    print(f\"Current run status: {run.status}\")\n",
    "\n",
    "print(f\"Run completed with status: {run.status}\")\n"
   ]
  },
  {
   "cell_type": "code",
   "execution_count": null,
   "metadata": {},
   "outputs": [],
   "source": [
    "from IPython.display import Markdown, display\n",
    "import helper\n",
    "\n",
    "messages = project_client.agents.list_messages(thread_id=thread.id)\n",
    "\n",
    "display(Markdown(helper.get_conversation_md(messages)))"
   ]
  },
  {
   "cell_type": "code",
   "execution_count": null,
   "metadata": {},
   "outputs": [],
   "source": []
  }
 ],
 "metadata": {
  "kernelspec": {
   "display_name": "venv",
   "language": "python",
   "name": "python3"
  },
  "language_info": {
   "codemirror_mode": {
    "name": "ipython",
    "version": 3
   },
   "file_extension": ".py",
   "mimetype": "text/x-python",
   "name": "python",
   "nbconvert_exporter": "python",
   "pygments_lexer": "ipython3",
   "version": "3.9.6"
  }
 },
 "nbformat": 4,
 "nbformat_minor": 2
}
