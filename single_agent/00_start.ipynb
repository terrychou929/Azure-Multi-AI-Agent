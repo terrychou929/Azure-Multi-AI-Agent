{
 "cells": [
  {
   "cell_type": "markdown",
   "metadata": {
    "vscode": {
     "languageId": "plaintext"
    }
   },
   "source": [
    "## Environment Set-Up\n",
    "Setting up a virtual environment is a crucial step in managing your Python project's dependencies effectively. \n",
    "\n",
    "###  1. Create a Virtual Environment\n",
    "Run the following command to create a virtual environment in your project directory. \n",
    "\n",
    "Replace `.venv` with your desired name for the virtual environment folder if needed:\n",
    "\n",
    "`python -m venv .venv`\n",
    "\n",
    "\n",
    "###  2. Activate the Virtual Environment\n",
    "Activate the virtual environment using the appropriate command for your operating system:\n",
    "- On Linux/macOS:\n",
    "\n",
    "    `source .venv/bin/activate`\n",
    "    \n",
    "- On Windows (Command Prompt)\n",
    "\n",
    "    `.venv\\Scripts\\activate\n",
    "`\n",
    "\n",
    "- On Windows (PowerShell):\n",
    "\n",
    "    `.venv\\Scripts\\Activate.ps1`\n",
    "\n",
    "###  3. Upgrade `pip`\n",
    "After activating the virtual environment, upgrade `pip` to ensure you have the latest version:\n",
    "\n",
    "`pip install --upgrade pip`\n",
    "\n",
    "###  4. Install Project Dependencies\n",
    "Use `pip` to install all the required dependencies for the project as specified in the `requirements.txt` file:\n",
    "\n",
    "`pip install -r requirements.txt`"
   ]
  },
  {
   "cell_type": "markdown",
   "metadata": {},
   "source": [
    "## Create a project in Azure AI Foundry\n",
    "\n",
    "1. Follow the guidelines in this article (https://learn.microsoft.com/en-us/azure/ai-studio/how-to/create-projects?tabs=ai-studio). If you don't have them already, make sure to create new AI services and AI Search resources.\n",
    "\n",
    "   <Image src='docs/create_project_in_azure_ai_foundry.png'>\n",
    "\n",
    "\n",
    "2. **Obtain the Connection String**  \n",
    "   Copy the connection string from your AI Studio project. It should follow this format: `eastus.api.azureml.ms;12345678-abcd-1234-9fc6-62780b3d3e05;my-resource-group;my-project-name`\n",
    "\n",
    "3. **Set Environment Variables**  \n",
    "Ensure you set the required environment variables in `../.env` file."
   ]
  },
  {
   "cell_type": "markdown",
   "metadata": {},
   "source": [
    "## Create a TimeGEN endpoint\n",
    "\n",
    "1. **Find TimeGEN model in Model Catalog**\n",
    "\n",
    "   <Image src='docs/time_gen_1.png'>\n",
    "\n",
    "\n",
    "2. **Create an endpoint**  \n",
    "   \n",
    "   <Image src='docs/time_gen_2.png'>\n",
    "\n",
    "3. **Set Environment Variables**  \n",
    "Save endpoint and key variables in `../.env` file."
   ]
  },
  {
   "cell_type": "code",
   "execution_count": 1,
   "metadata": {},
   "outputs": [
    {
     "data": {
      "text/plain": [
       "True"
      ]
     },
     "execution_count": 1,
     "metadata": {},
     "output_type": "execute_result"
    }
   ],
   "source": [
    "# load environment variables from the .env file\n",
    "from dotenv import load_dotenv\n",
    "\n",
    "load_dotenv()"
   ]
  },
  {
   "cell_type": "code",
   "execution_count": null,
   "metadata": {},
   "outputs": [],
   "source": [
    "import os\n",
    "from azure.ai.projects import AIProjectClient\n",
    "from azure.identity import DefaultAzureCredential\n",
    "\n",
    "\n",
    "project_client = AIProjectClient.from_connection_string(\n",
    "    credential=DefaultAzureCredential(), conn_str=os.environ[\"AIPROJECT_CONNECTION_STRING\"]\n",
    ")\n",
    "\n",
    "connections = project_client.connections.list()\n",
    "for connection in connections:\n",
    "    print(connection)"
   ]
  },
  {
   "cell_type": "code",
   "execution_count": null,
   "metadata": {},
   "outputs": [],
   "source": [
    "from azure.ai.projects.models import ConnectionType\n",
    "\n",
    "connections = project_client.connections.list(\n",
    "    connection_type=ConnectionType.AZURE_OPEN_AI,\n",
    ")\n",
    "for connection in connections:\n",
    "    print(connection)"
   ]
  },
  {
   "cell_type": "code",
   "execution_count": null,
   "metadata": {},
   "outputs": [],
   "source": [
    "aoai_client = project_client.inference.get_azure_openai_client(\n",
    "    api_version=\"2024-06-01\")\n",
    "\n",
    "response = aoai_client.chat.completions.create(\n",
    "    model=os.environ[\"CHAT_MODEL\"],  # Model deployment name\n",
    "    messages=[\n",
    "        {\n",
    "            \"role\": \"user\",\n",
    "            \"content\": \"How many feet are in a mile?\",\n",
    "        },\n",
    "    ],\n",
    ")\n",
    "\n",
    "print(response.choices[0].message.content)"
   ]
  },
  {
   "cell_type": "markdown",
   "metadata": {},
   "source": [
    "# List all agents"
   ]
  },
  {
   "cell_type": "code",
   "execution_count": 15,
   "metadata": {},
   "outputs": [],
   "source": [
    "agent_list = project_client.agents.list_agents().data\n",
    "for _agent in agent_list:\n",
    "    print(_agent)"
   ]
  },
  {
   "cell_type": "markdown",
   "metadata": {},
   "source": [
    "# Delete all agents"
   ]
  },
  {
   "cell_type": "code",
   "execution_count": null,
   "metadata": {},
   "outputs": [],
   "source": [
    "agent_list = project_client.agents.list_agents().data\n",
    "for _agent in agent_list:\n",
    "    project_client.agents.delete_agent(_agent.id)\n",
    "    print(f'agent {_agent.name} deleted')"
   ]
  },
  {
   "cell_type": "markdown",
   "metadata": {},
   "source": [
    "# Create Agent"
   ]
  },
  {
   "cell_type": "code",
   "execution_count": null,
   "metadata": {},
   "outputs": [],
   "source": [
    "from azure.ai.projects.models import CodeInterpreterTool\n",
    "\n",
    "\n",
    "# Create an instance of the CodeInterpreterTool\n",
    "code_interpreter = CodeInterpreterTool()\n",
    "\n",
    "\n",
    "# The CodeInterpreterTool needs to be included in creation of the agent\n",
    "agent = project_client.agents.create_agent(\n",
    "    model=os.environ[\"CHAT_MODEL\"],\n",
    "    name=\"code_agent\",\n",
    "    instructions=\"You are helpful agent\",\n",
    "    tools=code_interpreter.definitions, # optional\n",
    "    tool_resources=code_interpreter.resources, # optional\n",
    ")\n",
    "\n",
    "print(f\"Created agent, agent ID: {agent.id}\")"
   ]
  },
  {
   "cell_type": "code",
   "execution_count": null,
   "metadata": {},
   "outputs": [],
   "source": [
    "# List all agents\n",
    "agent_list = project_client.agents.list_agents().data\n",
    "for _agent in agent_list:\n",
    "    print(_agent) \n",
    "    # description 會描述得很清楚\n",
    "    # metadata 可以額外添加字段例如創建者, group等等方便後續做管理"
   ]
  },
  {
   "cell_type": "code",
   "execution_count": null,
   "metadata": {},
   "outputs": [],
   "source": [
    "# Create a thread to hold the conversation\n",
    "# 可以獲得某個時間段內的對話紀錄 不用自己存\n",
    "thread = project_client.agents.create_thread()\n",
    "print(f\"Created thread, thread ID: {thread.id}\")"
   ]
  },
  {
   "cell_type": "code",
   "execution_count": null,
   "metadata": {},
   "outputs": [],
   "source": [
    "# Create a message\n",
    "user_message = \"Hello\"\n",
    "message = project_client.agents.create_message(\n",
    "    thread_id=thread.id,\n",
    "    role=\"user\",\n",
    "    content=user_message,\n",
    ")\n",
    "print(f\"Created message, message ID: {message.id}, content: {message.content}\")"
   ]
  },
  {
   "cell_type": "code",
   "execution_count": null,
   "metadata": {},
   "outputs": [],
   "source": [
    "# Run the agent\n",
    "run = project_client.agents.create_and_process_run(\n",
    "    thread_id=thread.id, assistant_id=agent.id)\n",
    "print(f\"Run finished with status: {run.status}\")\n",
    "\n",
    "if run.status == \"failed\":\n",
    "    print(f\"Run failed: {run.last_error}\")"
   ]
  },
  {
   "cell_type": "code",
   "execution_count": null,
   "metadata": {},
   "outputs": [],
   "source": [
    "# Display all messages in the thread\n",
    "from IPython.display import Markdown, display\n",
    "import helper\n",
    "\n",
    "messages = project_client.agents.list_messages(thread_id=thread.id)\n",
    "\n",
    "display(Markdown(helper.get_conversation_md(messages)))"
   ]
  },
  {
   "cell_type": "code",
   "execution_count": null,
   "metadata": {},
   "outputs": [],
   "source": [
    "print(messages)"
   ]
  },
  {
   "cell_type": "code",
   "execution_count": 25,
   "metadata": {},
   "outputs": [],
   "source": [
    "user_message = \"Could you please create a bar chart for the operating profit using the following data and provide the file to me? Company A: $1.2 million, Company B: $2.5 million, Company C: $3.0 million, Company D: $1.8 million\""
   ]
  },
  {
   "cell_type": "code",
   "execution_count": null,
   "metadata": {},
   "outputs": [],
   "source": [
    "from pathlib import Path\n",
    "\n",
    "\n",
    "thread = project_client.agents.create_thread()\n",
    "print(f\"Created thread, thread ID: {thread.id}\")\n",
    "\n",
    "# Create a message\n",
    "message = project_client.agents.create_message(\n",
    "    thread_id=thread.id,\n",
    "    role=\"user\",\n",
    "    content=user_message,\n",
    ")\n",
    "print(f\"Created message, message ID: {message.id}\")\n",
    "\n",
    "# Run the agent\n",
    "run = project_client.agents.create_and_process_run(\n",
    "    thread_id=thread.id, assistant_id=agent.id)\n",
    "print(f\"Run finished with status: {run.status}\")\n",
    "\n",
    "if run.status == \"failed\":\n",
    "    # Check if you got \"Rate limit is exceeded.\", then you want to get more quota\n",
    "    print(f\"Run failed: {run.last_error}\")\n",
    "\n",
    "\n",
    "messages = project_client.agents.list_messages(thread_id=thread.id)\n",
    "display(Markdown(helper.get_conversation_md(messages)))"
   ]
  },
  {
   "cell_type": "code",
   "execution_count": null,
   "metadata": {},
   "outputs": [],
   "source": [
    "from IPython.display import Image, display\n",
    "\n",
    "\n",
    "# Generate an image file for the bar chart\n",
    "for image_content in messages.image_contents:\n",
    "    print(f\"Image File ID: {image_content.image_file.file_id}\")\n",
    "    file_name = f\"{image_content.image_file.file_id}_image_file.png\"\n",
    "    project_client.agents.save_file(\n",
    "        file_id=image_content.image_file.file_id, file_name=file_name)\n",
    "    print(f\"Saved image file to: {Path.cwd() / file_name}\")\n",
    "\n",
    "# Print the file path(s) from the messages\n",
    "for file_path_annotation in messages.file_path_annotations:\n",
    "    print(f\"File Paths:\")\n",
    "    print(f\"Type: {file_path_annotation.type}\")\n",
    "    print(f\"Text: {file_path_annotation.text}\")\n",
    "    print(f\"File ID: {file_path_annotation.file_path.file_id}\")\n",
    "    print(f\"Start Index: {file_path_annotation.start_index}\")\n",
    "    print(f\"End Index: {file_path_annotation.end_index}\")\n",
    "    \n",
    "    saved_file_name = Path(file_path_annotation.text).name\n",
    "    project_client.agents.save_file(\n",
    "        file_id=file_path_annotation.file_path.file_id, file_name=saved_file_name)\n",
    "    display(Image(filename=saved_file_name))\n"
   ]
  }
 ],
 "metadata": {
  "kernelspec": {
   "display_name": "venv",
   "language": "python",
   "name": "python3"
  },
  "language_info": {
   "codemirror_mode": {
    "name": "ipython",
    "version": 3
   },
   "file_extension": ".py",
   "mimetype": "text/x-python",
   "name": "python",
   "nbconvert_exporter": "python",
   "pygments_lexer": "ipython3",
   "version": "3.9.6"
  }
 },
 "nbformat": 4,
 "nbformat_minor": 2
}
