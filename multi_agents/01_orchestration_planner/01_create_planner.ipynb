{
 "cells": [
  {
   "cell_type": "markdown",
   "metadata": {},
   "source": [
    "# Construct a Planner for Agent Orchestration \n",
    "\n",
    "An intelligent orchestration planner is designed to seamlessly manage and assign tasks to multiple AI agents. The planner dynamically interprets tasks, evaluates agent capabilities, and optimizes task distribution, ensuring efficient collaboration and effective problem-solving across specialized AI systems."
   ]
  },
  {
   "cell_type": "code",
   "execution_count": null,
   "metadata": {},
   "outputs": [],
   "source": [
    "import os\n",
    "import logging\n",
    "from dotenv import load_dotenv\n",
    "\n",
    "\n",
    "logging.getLogger('azure.core.pipeline.policies.http_logging_policy').setLevel(\n",
    "    logging.WARNING)\n",
    "\n",
    "load_dotenv()\n",
    "print(os.getenv('CHAT_MODEL'))"
   ]
  },
  {
   "cell_type": "markdown",
   "metadata": {},
   "source": [
    "# Form the \"Cyber Security\" Agent Fleet"
   ]
  },
  {
   "cell_type": "code",
   "execution_count": 5,
   "metadata": {},
   "outputs": [],
   "source": [
    "import os\n",
    "from azure.ai.projects import AIProjectClient\n",
    "from azure.identity import DefaultAzureCredential\n",
    "\n",
    "\n",
    "project_client = AIProjectClient.from_connection_string(\n",
    "    credential=DefaultAzureCredential(), conn_str=os.environ[\"AIPROJECT_CONNECTION_STRING\"]\n",
    ")"
   ]
  },
  {
   "cell_type": "code",
   "execution_count": null,
   "metadata": {},
   "outputs": [],
   "source": [
    "fleet_name = \"internet_threat_analysis\"\n",
    "agent_fleet = []\n",
    "agent_list = project_client.agents.list_agents().data\n",
    "for _agent in agent_list:\n",
    "    if \"group\" in _agent.metadata.keys() and _agent.metadata[\"group\"] == fleet_name:\n",
    "        agent_fleet.append({\"id\": _agent.id, \n",
    "                            \"name\": _agent.name,\n",
    "                            \"description\": _agent.description})\n",
    "        \n",
    "agent_fleet"
   ]
  },
  {
   "cell_type": "markdown",
   "metadata": {},
   "source": [
    "# Construct System Prompt for the Planner"
   ]
  },
  {
   "cell_type": "code",
   "execution_count": 11,
   "metadata": {},
   "outputs": [],
   "source": [
    "aoai_client = project_client.inference.get_azure_openai_client(\n",
    "    api_version=\"2024-06-01\")\n",
    "\n",
    "deployment_name = os.environ[\"CHAT_MODEL\"]"
   ]
  },
  {
   "cell_type": "markdown",
   "metadata": {},
   "source": [
    "## System prompt template"
   ]
  },
  {
   "cell_type": "code",
   "execution_count": 7,
   "metadata": {},
   "outputs": [],
   "source": [
    "sys_prompt = \"\"\"You are an intelligent assistant capable of responding to user queries. When you receive a message from the user, you need to determine whether you can answer it directly or if it would be more appropriate to allocate one of the listed agents to respond.\n",
    "\n",
    "Direct Response: If the question falls within your knowledge and capabilities, you will respond directly. Your response should start with the prefix [__PLANNER__], followed by your answer.\n",
    "\n",
    "Agent Allocation: If the query is better suited for one of the agents, you will allocate the most appropriate agent based on the user’s message. Your response will begin with the prefix [__AGENT__], followed by the agent's name. If the allocated agent is unable to provide a satisfactory answer, you may decide to allocate a different agent that may better address the user's needs.\n",
    "\n",
    "Here is the list of agents you will be working with:\n",
    "[__AGENT_LIST_PLACEHOLDER__]\n",
    "\n",
    "Make sure to consider the descriptions of each agent when deciding which one to allocate. If an agent cannot find sufficient information or provide a relevant response, you may allocate another agent to ensure the user receives the most relevant and informed answer. Your goal is to provide clear and helpful information to the user, whether through your own knowledge or via the correct agent.\n",
    "\n",
    "## Constraints\n",
    "- Do not allocate an agent if you can answer the question directly.\n",
    "- If there is an agent that can possibly answer the question, allocate that agent.\n",
    "- If an agent cannot find sufficient information or provide a relevant response, you may allocate another agent to ensure the user receives the most relevant and informed answer.\n",
    "- If you don't allocate an agent, you must respond with the prefix [__PLANNER__], followed by your response. For example, [__PLANNER__]Hello, I'm here to assist you.;\n",
    "- If you allocate an agent, you must respond with the prefix [__AGENT__], followed by the agent's name, and then [__TASK__] followed by the request to that agent. For example: [__AGENT__]HR Helpdesk;[__TASK__]Get the company benefit policies.;\n",
    "- If you think the user's question is fully answered, respond with the prefix [__TERMINATION__] followed by your response.\n",
    "\"\"\""
   ]
  },
  {
   "cell_type": "markdown",
   "metadata": {},
   "source": [
    "## Insert Agent Fleet Information to the template"
   ]
  },
  {
   "cell_type": "code",
   "execution_count": null,
   "metadata": {},
   "outputs": [],
   "source": [
    "import json\n",
    "\n",
    "cyber_fleet_str = json.dumps(agent_fleet).replace(\"{\", '{{').replace(\"}\", '}}')\n",
    "print(sys_prompt.replace(\"[__AGENT_LIST_PLACEHOLDER__]\", cyber_fleet_str))"
   ]
  },
  {
   "cell_type": "markdown",
   "metadata": {},
   "source": [
    "## Add Additional Information"
   ]
  },
  {
   "cell_type": "code",
   "execution_count": 9,
   "metadata": {},
   "outputs": [],
   "source": [
    "addtional_constraint = '''\n",
    "## Guidelines to generate a report\n",
    "1. Start with the time keeper to get the current time.\n",
    "2. Allocate the cyber collector to retrieve latest threat information and the current metrics in use.\n",
    "3. Use the metric types from the cyber collector to have the db reader fetch database data.\n",
    "4. Use the CSV files from the db reader to have the data analyzer perform analysis, including forecasting and anomaly detection.\n",
    "5. Allocate the security evaluator to create radar chart of evaluation metrics.\n",
    "6. Start report writer to compile information and generate PDF report.\n",
    "'''"
   ]
  },
  {
   "cell_type": "markdown",
   "metadata": {},
   "source": [
    "## Form the message list and test the system prompt"
   ]
  },
  {
   "cell_type": "markdown",
   "metadata": {},
   "source": [
    "### 1. Test the time_keeper agent"
   ]
  },
  {
   "cell_type": "code",
   "execution_count": null,
   "metadata": {},
   "outputs": [],
   "source": [
    "messages = [\n",
    "    {\n",
    "        \"role\": \"system\",\n",
    "        \"content\": sys_prompt.replace(\"[__AGENT_LIST_PLACEHOLDER__]\", cyber_fleet_str) + addtional_constraint\n",
    "    },\n",
    "    {\n",
    "        \"role\": \"user\",\n",
    "        \"content\": \"Generate a cybersecurity report for TrendMicro.\"\n",
    "    }\n",
    "]\n",
    "\n",
    "response = aoai_client.chat.completions.create(\n",
    "    model=deployment_name,\n",
    "    messages=messages,\n",
    "    temperature=0.7,\n",
    "    max_tokens=1000\n",
    ")\n",
    "\n",
    "print(response.choices[0].message.content)"
   ]
  },
  {
   "cell_type": "markdown",
   "metadata": {},
   "source": [
    "### 2. Test the cyber_collector agent"
   ]
  },
  {
   "cell_type": "code",
   "execution_count": null,
   "metadata": {},
   "outputs": [],
   "source": [
    "messages = [\n",
    "    {\n",
    "        \"role\": \"system\",\n",
    "        \"content\": sys_prompt.replace(\"[__AGENT_LIST_PLACEHOLDER__]\", cyber_fleet_str) + addtional_constraint\n",
    "    },\n",
    "    {\n",
    "        \"role\": \"user\",\n",
    "        \"content\": \"Generate a cybersecurity report for TrendMicro.\"\n",
    "    },\n",
    "    {\n",
    "        \"role\": \"assistant\",\n",
    "        \"content\": \"[__AGENT__]time_keeper;[__TASK__]Provide the current time.\"\n",
    "    },\n",
    "    {\n",
    "        \"role\": \"assistant\",\n",
    "        \"content\": \"[__AGENT__(time_keeper)]The current time is 2025-01-06 19:53:53 (24-hour format).\"\n",
    "    }\n",
    "]\n",
    "\n",
    "response = aoai_client.chat.completions.create(\n",
    "    model=deployment_name,\n",
    "    messages=messages,\n",
    "    temperature=0.7,\n",
    "    max_tokens=1000\n",
    ")\n",
    "\n",
    "print(response.choices[0].message.content)"
   ]
  },
  {
   "cell_type": "markdown",
   "metadata": {},
   "source": [
    "### 3. Test the final agent: report writer"
   ]
  },
  {
   "cell_type": "code",
   "execution_count": null,
   "metadata": {},
   "outputs": [],
   "source": [
    "messages = [\n",
    "    {\n",
    "        \"role\": \"system\",\n",
    "        \"content\": sys_prompt.replace(\"[__AGENT_LIST_PLACEHOLDER__]\", cyber_fleet_str) + addtional_constraint\n",
    "    },\n",
    "    {\n",
    "        \"role\": \"user\",\n",
    "        \"content\": \"Generate a cybersecurity report for TrendMicro.\"\n",
    "    },\n",
    "    {\n",
    "        \"role\": \"assistant\",\n",
    "        \"content\": \"[__AGENT__]time_keeper;[__TASK__]Provide the current time.\"\n",
    "    },\n",
    "    {\n",
    "        \"role\": \"assistant\",\n",
    "        \"content\": \"[__AGENT__(time_keeper)]The current time is 2025-01-06 19:53:53 (24-hour format).\"\n",
    "    },\n",
    "    {\n",
    "        \"role\": \"assistant\",\n",
    "        \"content\": \"[__AGENT__]cyber_collector;[__TASK__]Collect the latest cybersecurity threat information relevant to TrendMicro.\"\n",
    "    },\n",
    "    {\n",
    "        \"role\": \"assistant\",\n",
    "        \"content\": \"\"\"[__AGENT__(cyber_collector)]Cybersecurity KPIs are essential for measuring the effectiveness of an organization’s security posture. Key metrics include Intrusion Attempts (unauthorized access attempts), Malicious Traffic Proportion (percentage of harmful network activity), Incident Detection Rate (percentage of threats identified), MTTD/MTTR (time to detect/respond to incidents), and Data Breach Volume (amount of compromised data). Other critical KPIs include Patch Compliance (rate of systems updated), False Positive/Negative Rates (accuracy of detection tools), User Awareness Metrics (training effectiveness, e.g., phishing test results), and Vulnerability Management (percentage of critical vulnerabilities remediated). Additional metrics cover Privileged Access Management, Endpoint Protection, Regulatory Compliance, and Cost of Incidents. Tracking these KPIs helps organizations mitigate risks, improve defenses, and ensure compliance.\n",
    "    Our current metrics include Intrusion Attempts and Incident Detection Rate.\"\"\"\n",
    "    },\n",
    "    {\n",
    "        \"role\": \"assistant\",\n",
    "        \"content\": \"\"\"[__AGENT__]db_reader;[__TASK__]Fetch data for the metrics \"Intrusion Attempts\" and \"Incident Detection Rate\" from the database, save as CSV, and provide the file paths.\"\"\"\n",
    "    },\n",
    "    {\n",
    "        \"role\": \"assistant\",\n",
    "        \"content\": \"\"\"[__AGENT__(db_reader)]I have retrieved the requested data and saved it to the specified file paths. Here's the result:\n",
    "    1. Data for Intrusion Attempts has been saved to: ./data/Intrusion Attempts.csv\n",
    "    2. Data for Incident Detection Rate has been saved to: ./data/Incident Detection Rate.csv\n",
    "If you need further assistance in processing, analyzing, or visualizing this data, let me know!\"\"\"\n",
    "    },\n",
    "    {\n",
    "        \"role\": \"assistant\",\n",
    "        \"content\": \"\"\"[__AGENT__]data_analyzer;[__TASK__]Perform analysis, including forecasting and anomaly detection, on the data in the following files:\n",
    "1. ./data/Intrusion Attempts.csv\n",
    "2. ./data/Incident Detection Rate.csv\"\"\"\n",
    "    },\n",
    "    {\n",
    "        \"role\": \"assistant\",\n",
    "        \"content\": \"\"\"[__AGENT__(Data Analyzer)]After analyzing the data from the provided CSV files, I have generated and reviewed the visualizations for Intrusion Attempts and Incident Detection Rate. Below are the detailed insights and recommendations based on the findings:\n",
    "\n",
    "# 1. Intrusion Attempts: Forecasted vs Actual Values\n",
    "    ![Intrusion Attempts Forecast](./figures/Intrusion_Attempts_forecast_plot.png)\n",
    "\n",
    "    - Trend Analysis: The data reveals a clear upward trend in intrusion attempts over time, indicating a steady increase in malicious activities targeting the system.\n",
    "    - Seasonality: There is evidence of recurring patterns, with peaks and troughs occurring at regular intervals. This cyclical behavior suggests periodic threats or exploitation of recurring vulnerabilities.\n",
    "    - Forecast Accuracy: The forecasted values (pink line) closely align with the actual values (blue line), demonstrating the reliability of the forecasting model used. The forecast projects a continued rise in intrusion attempts.\n",
    "\n",
    "# 2. Incident Detection Rate: Anomalies on Actual Values\n",
    "    ![Intrusion Attempts Forecast](./figures/Incident_Detection_Rate_anomalies_plot.png)\n",
    "\n",
    "    - Anomalies Identified: The model detected multiple anomalies (red circles), representing instances where the detection rate significantly deviated from expected behavior. These could indicate system misconfigurations, unusual attack patterns, or delayed responses.\n",
    "    - Overall Stability: The detection rate generally remains within the expected range (purple shaded region), indicating consistent performance of the detection mechanisms. However, periodic spikes and dips highlight areas for further investigation.\n",
    "    - Spike Analysis: Spikes in detection rates may correlate with periods of heightened activity or improved detection capabilities, while dips could reflect potential monitoring gaps or delayed responses.\"\"\"\n",
    "    },\n",
    "    {\n",
    "        \"role\": \"assistant\",\n",
    "        \"content\": \"\"\"[__AGENT__]security_evaluator;[__TASK__]Create radar charts for the evaluation metrics \"Intrusion Attempts\" and \"Incident Detection Rate\" based on the analyzed data.\"\"\"\n",
    "    },\n",
    "    {\n",
    "        \"role\": \"assistant\",\n",
    "        \"content\": \"\"\"[__AGENT__(security_evaluator)]Let's start by gathering the categories and their corresponding values for your radar chart:\\n\\n**Categories:**\\n1. Vulnerability Score\\n2. Detection Rate\\n3. Response Time\\n4. Threat Intelligence\\n5. System Uptime\\n\\n**Values:**\\n- Vulnerability Score: 8\\n- Detection Rate: 7\\n- Response Time: 6\\n- Threat Intelligence: 9\\n- System Uptime: 8\\n\\nNow, I need to confirm that all values are on a scale of 0-10 and that the number of categories matches the number of values. \\n\\nSince you have five categories, you'll also need to ensure you have five corresponding values, which you do.\\n\\nI will proceed to generate the radar chart now!\"\"\"\n",
    "    },\n",
    "    {\n",
    "        \"role\": \"assistant\",\n",
    "        \"content\": \"\"\"[__AGENT__(security_evaluator)]The radar chart has been successfully created! You can find it saved at the following path:\\n\\n**`./figures/cybersecurity_radar_chart.png`**\\n\\nThis chart visually represents your organization's cybersecurity metrics, allowing you to analyze areas of strength and those needing improvement. If you have any other questions or need further assistance, feel free to ask!\"\"\"\n",
    "    },\n",
    "    {\n",
    "        \"role\": \"assistant\",\n",
    "        \"content\": \"\"\"[__AGENT__]report_writer;[__TASK__]Compile all the gathered information, visualizations, and insights into a professional, detailed, and actionable cybersecurity report for TrendMicro. Include the radar chart, analysis, and recommendations. Save the report as a PDF.\"\"\"\n",
    "    },\n",
    "    {\n",
    "        \"role\": \"assistant\",\n",
    "        \"content\": \"\"\"[__AGENT__(report_writer)]The cybersecurity report for TrendMicro has been successfully generated and saved as a PDF. You can download it using the link below:\n",
    "\n",
    "Download Cybersecurity Threat and Defense Report\n",
    "\n",
    "If you need any further modifications or additional information, feel free to ask!\n",
    "\n",
    "\"\"\"\n",
    "    },\n",
    "]\n",
    "\n",
    "response = aoai_client.chat.completions.create(\n",
    "    model=deployment_name,\n",
    "    messages=messages,\n",
    "    temperature=0.7,\n",
    "    max_tokens=1000\n",
    ")\n",
    "\n",
    "print(response.choices[0].message.content)"
   ]
  }
 ],
 "metadata": {
  "kernelspec": {
   "display_name": ".venv",
   "language": "python",
   "name": "python3"
  },
  "language_info": {
   "codemirror_mode": {
    "name": "ipython",
    "version": 3
   },
   "file_extension": ".py",
   "mimetype": "text/x-python",
   "name": "python",
   "nbconvert_exporter": "python",
   "pygments_lexer": "ipython3",
   "version": "3.12.4"
  }
 },
 "nbformat": 4,
 "nbformat_minor": 2
}
